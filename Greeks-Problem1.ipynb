{
 "cells": [
  {
   "cell_type": "code",
   "execution_count": 1,
   "metadata": {
    "collapsed": true
   },
   "outputs": [],
   "source": [
    "from __future__ import print_function\n",
    "\n",
    "import numpy as np\n",
    "import pandas as pd\n",
    "import matplotlib.pyplot as plt\n",
    "%matplotlib inline\n",
    "\n",
    "import math as m\n",
    "from time import time\n",
    "from scipy import stats\n",
    "import scipy as sp"
   ]
  },
  {
   "cell_type": "code",
   "execution_count": 2,
   "metadata": {
    "collapsed": false
   },
   "outputs": [],
   "source": [
    "S0 = 80.; K = 85.; T = 1.0; r = 0.05; q = 0.0;\n",
    "sigma = 0.2\n",
    "# euro call"
   ]
  },
  {
   "cell_type": "markdown",
   "metadata": {
    "collapsed": false
   },
   "source": [
    "$\\frac{dS}{S} = r dt + \\sigma dW_t$\n",
    "\n",
    "\n",
    "$S(t) = S(t-\\Delta t) \\exp(r t - \\frac{1}{2} \\sigma^2 t + \\sigma W_t )$"
   ]
  },
  {
   "cell_type": "code",
   "execution_count": 3,
   "metadata": {
    "collapsed": false
   },
   "outputs": [
    {
     "name": "stdout",
     "output_type": "stream",
     "text": [
      "PV: 5.98935\n",
      "Calculation time   0.00901\n"
     ]
    }
   ],
   "source": [
    "def standard_normal(I):\n",
    "    z = np.random.standard_normal(I)\n",
    "    mean = np.mean(z)\n",
    "    std = np.std(z)\n",
    "    return (z - mean)/std    \n",
    "\n",
    "def euro_opt_pv_mc(isCall, S0, K, T, r, sigma, I):\n",
    "    # Simulating I values\n",
    "    z = standard_normal(I)\n",
    "    S = S0 * np.exp((r - 0.5 * sigma ** 2) * T + sigma * m.sqrt(T) * z)\n",
    "\n",
    "    # payoff\n",
    "    if isCall:\n",
    "        P = np.maximum(S - K, 0)\n",
    "    else:\n",
    "        P = np.maximum(K - S, 0)\n",
    "    # PV as expected discounted payoff\n",
    "    C = np.sum( m.exp(-r * T) * P ) / I\n",
    "    return C, S\n",
    "\n",
    "# Parameter\n",
    "I = 50000\n",
    "\n",
    "np.random.seed(12345)\n",
    "t0 = time()\n",
    "C, _ = euro_opt_pv_mc(True, S0, K, T, r, sigma, I)\n",
    "calcTime = time() - t0\n",
    "\n",
    "print( \"PV: %.5f\" % (C) )\n",
    "print( \"Calculation time   %.5f\" % calcTime )"
   ]
  },
  {
   "cell_type": "markdown",
   "metadata": {
    "collapsed": false
   },
   "source": [
    "------  \n",
    "$ \\Delta $ - ?"
   ]
  },
  {
   "cell_type": "code",
   "execution_count": 0,
   "metadata": {
    "collapsed": true
   },
   "outputs": [],
   "source": []
  }
 ],
 "metadata": {
  "kernelspec": {
   "display_name": "Python 3",
   "language": "python",
   "name": "python3"
  },
  "language_info": {
   "codemirror_mode": {
    "name": "ipython",
    "version": 3
   },
   "file_extension": ".py",
   "mimetype": "text/x-python",
   "name": "python",
   "nbconvert_exporter": "python",
   "pygments_lexer": "ipython3",
   "version": "3.6.0"
  },
  "name": "OptionsL2.MonteCarlo.ipynb"
 },
 "nbformat": 4,
 "nbformat_minor": 0
}
