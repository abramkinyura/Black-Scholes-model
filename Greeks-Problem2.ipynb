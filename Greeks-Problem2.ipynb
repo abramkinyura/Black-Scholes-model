{
 "cells": [
  {
   "cell_type": "code",
   "execution_count": 2,
   "metadata": {
    "collapsed": true
   },
   "outputs": [
   ],
   "source": [
    "from __future__ import print_function\n",
    "\n",
    "import numpy as np\n",
    "import pandas as pd\n",
    "import matplotlib.pyplot as plt\n",
    "%matplotlib inline\n",
    "\n",
    "import math as m\n",
    "from time import time\n",
    "from scipy import stats\n",
    "import scipy as sp"
   ]
  },
  {
   "cell_type": "code",
   "execution_count": 24,
   "metadata": {
    "collapsed": false
   },
   "outputs": [
   ],
   "source": [
    "def N(x):\n",
    "    return stats.norm.cdf(x, 0.0, 1.0)\n",
    "\n",
    "def NPrime(x):\n",
    "    return stats.norm.pdf(x, 0.0, 1.0)\n",
    "\n",
    "def bsm_d1(S, K, T, r, sigma):\n",
    "    return (np.log(S / K) + (r + 0.5 * sigma ** 2) * T) / (sigma * m.sqrt(T))\n",
    "\n",
    "def bsm_d2(S, K, T, r, sigma):\n",
    "    return (np.log(S / K) + (r - 0.5 * sigma ** 2) * T) / (sigma * m.sqrt(T))\n",
    "\n",
    "def bsm_pv(isCall, S, K, T, r, sigma):\n",
    "    d1 = bsm_d1(S, K, T, r, sigma)\n",
    "    d2 = bsm_d2(S, K, T, r, sigma)\n",
    "    if isCall:\n",
    "        return S * N(d1) - K * m.exp(-r * T) * N(d2)\n",
    "    else:\n",
    "        return K * N(-d2) * m.exp(-r * T)  - S * N(-d1)\n",
    "\n",
    "def bsm_delta(isCall, S, K, T, r, sigma):\n",
    "    d1 = bsm_d1(S, K, T, r, sigma)\n",
    "    if isCall:\n",
    "        return N(d1)\n",
    "    else:\n",
    "        return -N(-d1)\n",
    "    \n",
    "def bsm_gamma(isCall, S, K, T, r, sigma):\n",
    "    d2 = bsm_d1(S, K, T, r, sigma)\n",
    "    return NPrime(d2) / (S * sigma * m.sqrt(T))\n",
    "    \n",
    "def bsm_vega(isCall, S, K, T, r, sigma):\n",
    "    d1 = bsm_d1(S, K, T, r, sigma)\n",
    "    return S * NPrime(d1) * m.sqrt(T)"
   ]
  },
  {
   "cell_type": "code",
   "execution_count": 8,
   "metadata": {
    "collapsed": false
   },
   "outputs": [
    {
     "name": "stdout",
     "output_type": "stream",
     "text": [
      "ref_pv: 5.988244, ref_delta: 0.518694 \n"
     ]
    }
   ],
   "source": [
    "S0 = 80.; K = 85.; T = 1.0; r = 0.05;\n",
    "sigma = 0.2\n",
    "# for euro call\n",
    "ref_pv = bsm_pv(True, S0, K, T, r, sigma)\n",
    "ref_delta = bsm_delta(True, S0, K, T, r, sigma)\n",
    "print( \"ref_pv: %.6f, ref_delta: %.6f \" % (ref_pv, ref_delta) )"
   ]
  },
  {
   "cell_type": "markdown",
   "metadata": {
    "collapsed": false
   },
   "source": [
    "$\\frac{dS}{S} = r dt + \\sigma dW_t$\n",
    "\n",
    "\n",
    "$S(t) = S(t-\\Delta t) \\exp(r t - \\frac{1}{2} \\sigma^2 t + \\sigma W_t )$"
   ]
  },
  {
   "cell_type": "code",
   "execution_count": 9,
   "metadata": {
    "collapsed": false
   },
   "outputs": [
    {
     "name": "stdout",
     "output_type": "stream",
     "text": [
      "PV: 5.98935, abs diff: -0.00110, rel diff:  -0.00018\n",
      "Calculation time   0.00801\n"
     ]
    }
   ],
   "source": [
    "def standard_normal(I):\n",
    "    z = np.random.standard_normal(I)\n",
    "    mean = np.mean(z)\n",
    "    std = np.std(z)\n",
    "    return (z - mean)/std    \n",
    "\n",
    "def euro_opt_pv_mc(isCall, S0, K, T, r, sigma, I):\n",
    "    # Simulating I values\n",
    "    z = standard_normal(I)\n",
    "    S = S0 * np.exp((r - 0.5 * sigma ** 2) * T + sigma * m.sqrt(T) * z)\n",
    "\n",
    "    # payoff\n",
    "    if isCall:\n",
    "        P = np.maximum(S - K, 0)\n",
    "    else:\n",
    "        P = np.maximum(K - S, 0)\n",
    "    # PV as expected discounted payoff\n",
    "    C = np.sum( m.exp(-r * T) * P ) / I\n",
    "    return C, S\n",
    "\n",
    "# Parameter\n",
    "I = 50000\n",
    "\n",
    "np.random.seed(12345)\n",
    "t0 = time()\n",
    "C, _ = euro_opt_pv_mc(True, S0, K, T, r, sigma, I)\n",
    "calcTime = time() - t0\n",
    "\n",
    "print( \"PV: %.5f, abs diff: %.5f, rel diff:  %.5f\" % (C, ref_pv - C, (ref_pv - C)/C) )\n",
    "print( \"Calculation time   %.5f\" % calcTime )"
   ]
  },
  {
   "cell_type": "markdown",
   "metadata": {
    "collapsed": false
   },
   "source": [
    "$\\frac{ \\partial C  }{ \\partial S} \\approx \\frac{ C_{i+1} - C_{i-1} }{ 2 \\Delta S }$"
   ]
  },
  {
   "cell_type": "code",
   "execution_count": 13,
   "metadata": {
    "collapsed": false
   },
   "outputs": [
    {
     "name": "stdout",
     "output_type": "stream",
     "text": [
      "Delta: 0.51888, abs diff: -0.00018, rel diff:  -0.00035\n",
      "Calculation time   0.01601\n"
     ]
    }
   ],
   "source": [
    "def euro_opt_delta_mc(isCall, S0, K, T, r, sigma, I, dS):\n",
    "    C_1, _ = euro_opt_pv_mc(isCall, S0-dS, K, T, r, sigma, I)\n",
    "    C1, _ = euro_opt_pv_mc(isCall, S0+dS, K, T, r, sigma, I)\n",
    "    return (C1 - C_1) / (2. * dS)\n",
    "\n",
    "np.random.seed(12345)\n",
    "t0 = time()\n",
    "delta = euro_opt_delta_mc(True, S0, K, T, r, sigma, I, S0/100.)\n",
    "calcTime = time() - t0\n",
    "\n",
    "print( \"Delta: %.5f, abs diff: %.5f, rel diff:  %.5f\" % (delta, ref_delta - delta, (ref_delta - delta)/delta) )\n",
    "print( \"Calculation time   %.5f\" % calcTime )"
   ]
  },
  {
   "cell_type": "markdown",
   "metadata": {
    "collapsed": true
   },
   "source": [
    "----------\n",
    "\n",
    "## Find spot value for given value of delta ##\n",
    "### delta neutral position ###"
   ]
  },
  {
   "cell_type": "code",
   "execution_count": 31,
   "metadata": {
    "collapsed": false
   },
   "outputs": [
   ],
   "source": [
    "def find_strike_for_delta_a(isCall, S, T, r, sigma, target_delta):\n",
    "    # >>>\n",
    "    # modify this\n",
    "    K_ = S # usesp.optimize.brentq and bsm_delta\n",
    "    # <<<\n",
    "    print( \"Strike value %.8f\" % K_ )\n",
    "    print( \"Call delta: %.8f, gamma %.8f\" % (\n",
    "            bsm_delta(True, S=S, K=K_, T=T, r=r, sigma=sigma),\n",
    "            bsm_gamma(True, S=S, K=K_, T=T, r=r, sigma=sigma)\n",
    "        ) )\n",
    "    print( \"Put delta: %.8f, gamma %.8f\" % (\n",
    "            bsm_delta(False, S=S, K=K_, T=T, r=r, sigma=sigma),\n",
    "            bsm_gamma(False, S=S, K=K_, T=T, r=r, sigma=sigma) \n",
    "        ) )"
   ]
  },
  {
   "cell_type": "code",
   "execution_count": 32,
   "metadata": {
    "collapsed": false
   },
   "outputs": [
    {
     "name": "stdout",
     "output_type": "stream",
     "text": [
      "Strike value 80.00000000\n",
      "Call delta: 0.63683065, gamma 0.02345252\n",
      "Put delta: -0.36316935, gamma 0.02345252\n"
     ]
    }
   ],
   "source": [
    "S0 = 80.; T = 1.0; r = 0.05; sigma = 0.2\n",
    "\n",
    "find_strike_for_delta_a(True, S=S0, T=T, r=r, sigma=sigma, target_delta=0.5)"
   ]
  },
  {
   "cell_type": "code",
   "execution_count": 38,
   "metadata": {
    "collapsed": false
   },
   "outputs": [
   ],
   "source": [
    "def find_strike_for_delta_mc(isCall, S, T, r, sigma, target_delta, I, dS):\n",
    "    # >>>\n",
    "    # modify this\n",
    "    K_ = S # usesp.optimize.brentq and euro_opt_delta_mc\n",
    "    # <<<\n",
    "    print( \"Strike value %.8f\" % K_ )\n",
    "    print( \"Call delta: %.8f, ref_delta %.8f\" % (\n",
    "            euro_opt_delta_mc(True, S0=S, K=K_, T=T, r=r, sigma=sigma, I=I, dS=dS),\n",
    "            bsm_delta(True, S=S, K=K_, T=T, r=r, sigma=sigma)\n",
    "        ) )\n",
    "    print( \"Put delta: %.8f, ref_delta %.8f\" % (\n",
    "            euro_opt_delta_mc(False, S0=S, K=K_, T=T, r=r, sigma=sigma, I=I, dS=dS),\n",
    "            bsm_delta(False, S=S, K=K_, T=T, r=r, sigma=sigma) \n",
    "        ) )"
   ]
  },
  {
   "cell_type": "code",
   "execution_count": 39,
   "metadata": {
    "collapsed": false
   },
   "outputs": [
    {
     "name": "stdout",
     "output_type": "stream",
     "text": [
      "Strike value 80.00000000\n",
      "Call delta: 0.62797434, ref_delta 0.63683065\n",
      "Put delta: -0.36196806, ref_delta -0.36316935\n"
     ]
    }
   ],
   "source": [
    "np.random.seed(12345)\n",
    "find_strike_for_delta_mc(True, S=S0, T=T, r=r, sigma=sigma, target_delta=0.5, I=I, dS=S0/100.)"
   ]
  },
  {
   "cell_type": "code",
   "execution_count": 0,
   "metadata": {
    "collapsed": true
   },
   "outputs": [
   ],
   "source": [
   ]
  }
 ],
 "metadata": {
  "kernelspec": {
   "display_name": "Python 3 (Ubuntu Linux)",
   "language": "python",
   "name": "python3"
  },
  "language_info": {
   "codemirror_mode": {
    "name": "ipython",
    "version": 3
   },
   "file_extension": ".py",
   "mimetype": "text/x-python",
   "name": "python",
   "nbconvert_exporter": "python",
   "pygments_lexer": "ipython3",
   "version": "3.4.3+"
  },
  "name": "OptionsL2.MonteCarlo.ipynb"
 },
 "nbformat": 4,
 "nbformat_minor": 0
}